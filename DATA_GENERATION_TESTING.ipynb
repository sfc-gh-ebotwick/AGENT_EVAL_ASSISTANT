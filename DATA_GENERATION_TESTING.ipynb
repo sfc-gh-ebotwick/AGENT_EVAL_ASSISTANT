{
 "metadata": {
  "kernelspec": {
   "display_name": "Python 3",
   "language": "python",
   "name": "python3"
  },
  "language_info": {
   "codemirror_mode": {
    "name": "ipython",
    "version": 3
   },
   "file_extension": ".py",
   "mimetype": "text/x-python",
   "name": "python",
   "nbconvert_exporter": "python",
   "pygments_lexer": "ipython3",
   "version": "3.8.18"
  },
  "lastEditStatus": {
   "notebookId": "chgign3iaigs43ykwi4q",
   "authorId": "5095547476787",
   "authorName": "EBOTWICK",
   "authorEmail": "elliott.botwick@snowflake.com",
   "sessionId": "25ed48f1-2221-436c-bc77-aab827c14404",
   "lastEditTime": 1761752739779
  }
 },
 "nbformat_minor": 5,
 "nbformat": 4,
 "cells": [
  {
   "cell_type": "code",
   "id": "a1ee390b-c216-4c30-9cef-15e61b5a1acd",
   "metadata": {
    "language": "python",
    "name": "python_import"
   },
   "outputs": [],
   "source": "import pandas as pd\nimport numpy as np\n\nfrom snowflake.snowpark import Session\nimport snowflake.snowpark as snowpark\nfrom snowflake.snowpark.context import get_active_session\nfrom snowflake.cortex import complete\n\nfrom typing import List\nimport os\nimport sys\nimport json\nimport time\nimport requests\n\n#Set up snowflake session vars and env vars\nsession = get_active_session()\nsession",
   "execution_count": null
  },
  {
   "cell_type": "code",
   "id": "bd3e4ef6-23db-4c33-a516-d9586fffcf71",
   "metadata": {
    "language": "sql",
    "name": "cell2"
   },
   "outputs": [],
   "source": "WITH RESULTS AS (SELECT \n    TIMESTAMP AS TS,\n    RECORD_ATTRIBUTES:\"snow.ai.observability.object.name\" AS AGENT_NAME,\n    RECORD_ATTRIBUTES:\"snow.ai.observability.agent.thread_id\" AS THREAD_ID,\n    RECORD_ATTRIBUTES:\"snow.ai.observability.agent.parent_message_id\" AS PARENT_MESSAGE_ID,\n    COALESCE(\n        PARENT_MESSAGE_ID,\n        LAST_VALUE (PARENT_MESSAGE_ID) IGNORE NULLS OVER (\n          PARTITION BY AGENT_NAME,\n          THREAD_ID\n          ORDER BY\n            TIMESTAMP ROWS BETWEEN UNBOUNDED PRECEDING\n            AND CURRENT ROW\n        )\n      ) AS PARENT_MESSAGE,\n\n    CONCAT(THREAD_ID, '-', PARENT_MESSAGE) AS THREAD_MESSAGE_ID,\n\n    VALUE:\"snow.ai.observability.request_body\".\"messages\"[0].\"content\"[0].\"text\" AS INPUT_QUERY,\n    RECORD_ATTRIBUTES:\"snow.ai.observability.agent.planning.thinking_response\" AS AGENT_PLANNING,\n    RECORD_ATTRIBUTES:\"snow.ai.observability.agent.tool.cortex_analyst.sql_query\" AS GENERATED_SQL,\n    RECORD_ATTRIBUTES:\"snow.ai.observability.agent.tool.sql_execution.result\" AS SQL_RESULT,\n    RECORD_ATTRIBUTES:\"snow.ai.observability.agent.tool.cortex_search.results\" AS CORTEX_SEARCH_RESULT,\n    RECORD_ATTRIBUTES:\"snow.ai.observability.agent.tool.custom_tool.results\" AS CUSTOM_TOOL_RESULT,\n    RECORD_ATTRIBUTES:\"ai.observability.record_root.output\" AS AGENT_RESPONSE, \n    RECORD_ATTRIBUTES:\"snow.ai.observability.agent.planning.model\" AS REASONING_MODEL, \n    RECORD_ATTRIBUTES:\"snow.ai.observability.agent.planning.tool.name\" AS AVAILABLE_TOOLS, \n    RECORD_ATTRIBUTES:\"snow.ai.observability.agent.planning.tool_selection.name\" AS TOOL_SELECTION,\n    CASE\n        WHEN VALUE:\"positive\"='true' THEN 1\n        WHEN VALUE:\"positive\"='false'THEN 0\n        ELSE NULL\n        END AS USER_FEEDBACK,\n    VALUE:\"feedback_message\" AS USER_FEEDBACK_MESSAGE,\n\n    RECORD:\"name\" as OPERATION,\n    *\n    FROM SNOWFLAKE.LOCAL.AI_OBSERVABILITY_EVENTS \n    WHERE SCOPE:name = 'snow.cortex.agent'\n    AND AGENT_NAME = 'FINANCE_AGENT'\n    AND OPERATION !='Agent'\n    -- AND THREAD_ID = '475131216265'\n    ORDER BY THREAD_ID, TIMESTAMP, START_TIMESTAMP ASC)\n\n    SELECT * FROM RESULTS;",
   "execution_count": null
  },
  {
   "cell_type": "code",
   "id": "f4c74a07-b685-4121-9ffb-f75a39151977",
   "metadata": {
    "language": "sql",
    "name": "cell6"
   },
   "outputs": [],
   "source": "WITH RESULTS AS (SELECT \n    TIMESTAMP AS TS,\n    RECORD_ATTRIBUTES:\"snow.ai.observability.object.name\" AS AGENT_NAME,\n    RECORD_ATTRIBUTES:\"snow.ai.observability.agent.thread_id\" AS THREAD_ID,\n    RECORD_ATTRIBUTES:\"snow.ai.observability.agent.parent_message_id\" AS PARENT_MESSAGE_ID,\n    COALESCE(\n        PARENT_MESSAGE_ID,\n        LAST_VALUE (PARENT_MESSAGE_ID) IGNORE NULLS OVER (\n          PARTITION BY AGENT_NAME,\n          THREAD_ID\n          ORDER BY\n            TIMESTAMP ROWS BETWEEN UNBOUNDED PRECEDING\n            AND CURRENT ROW\n        )\n      ) AS PARENT_MESSAGE,\n\n    CONCAT(THREAD_ID, '-', PARENT_MESSAGE) AS THREAD_MESSAGE_ID,\n\n    VALUE:\"snow.ai.observability.request_body\".\"messages\"[0].\"content\"[0].\"text\" AS INPUT_QUERY,\n    RECORD_ATTRIBUTES:\"snow.ai.observability.agent.planning.thinking_response\" AS AGENT_PLANNING,\n    RECORD_ATTRIBUTES:\"snow.ai.observability.agent.tool.cortex_analyst.sql_query\" AS GENERATED_SQL,\n    RECORD_ATTRIBUTES:\"snow.ai.observability.agent.tool.sql_execution.result\" AS SQL_RESULT,\n    RECORD_ATTRIBUTES:\"snow.ai.observability.agent.tool.cortex_search.results\" AS CORTEX_SEARCH_RESULT,\n    RECORD_ATTRIBUTES:\"snow.ai.observability.agent.tool.custom_tool.results\" AS CUSTOM_TOOL_RESULT,\n    RECORD_ATTRIBUTES:\"ai.observability.record_root.output\" AS AGENT_RESPONSE, \n    RECORD_ATTRIBUTES:\"snow.ai.observability.agent.planning.model\" AS REASONING_MODEL, \n    RECORD_ATTRIBUTES:\"snow.ai.observability.agent.planning.tool.name\" AS AVAILABLE_TOOLS, \n    RECORD_ATTRIBUTES:\"snow.ai.observability.agent.planning.tool_selection.name\" AS TOOL_SELECTION,\n    CASE\n        WHEN VALUE:\"positive\"='true' THEN 1\n        WHEN VALUE:\"positive\"='false'THEN 0\n        ELSE NULL\n        END AS USER_FEEDBACK,\n    VALUE:\"feedback_message\" AS USER_FEEDBACK_MESSAGE,\n\n    RECORD:\"name\" as OPERATION,\n    *\n    FROM SNOWFLAKE.LOCAL.AI_OBSERVABILITY_EVENTS \n    WHERE SCOPE:name = 'snow.cortex.agent'\n    -- AND AGENT_NAME = 'FINANCE_AGENT'\n    AND OPERATION !='Agent'\n    -- AND THREAD_ID = '475131216265'\n    ORDER BY THREAD_ID, TIMESTAMP, START_TIMESTAMP ASC)\n\n    SELECT \n        THREAD_MESSAGE_ID,\n        MIN(TIMESTAMP) AS TS,\n        MIN(AGENT_NAME) AS AGENT_NAME,\n        -- ARRAY_AGG(INPUT_QUERY ORDER BY TS ASC) AS INPUT_QUERY,\n      ARRAY_AGG(INPUT_QUERY) WITHIN GROUP (ORDER BY TIMESTAMP ASC) AS INPUT_QUERIES,\n        ARRAY_AGG(AGENT_RESPONSE)  WITHIN GROUP (ORDER BY TIMESTAMP ASC) AS AGENT_RESPONSE,\n        ARRAY_AGG(AGENT_PLANNING)  WITHIN GROUP (ORDER BY TIMESTAMP ASC) AS AGENT_PLANNING,\n        ARRAY_AGG(TOOL_SELECTION)  WITHIN GROUP (ORDER BY TIMESTAMP ASC) AS TOOL_CALLS,\n        ARRAY_AGG(COALESCE(GENERATED_SQL, SQL_RESULT, CORTEX_SEARCH_RESULT, CUSTOM_TOOL_RESULT))  \n        WITHIN GROUP (ORDER BY TIMESTAMP ASC) AS TOOL_RESULTS,\n    \n        FROM RESULTS\n        \n        GROUP BY THREAD_MESSAGE_ID\n        ORDER BY TS ASC;",
   "execution_count": null
  },
  {
   "cell_type": "code",
   "id": "e3aee8b3-18e0-419e-9651-3adc6a5d662d",
   "metadata": {
    "language": "python",
    "name": "convert_query_cell_to_pandas"
   },
   "outputs": [],
   "source": "import json\n\ndf = cell6.to_pandas()\ndf",
   "execution_count": null
  },
  {
   "cell_type": "markdown",
   "id": "ad0d40c5-249b-4989-8cc3-9ec329c9c90d",
   "metadata": {
    "name": "ARCHIVE_BELOW",
    "collapsed": false
   },
   "source": "# ARCHIVE BELOW"
  },
  {
   "cell_type": "code",
   "id": "4a0e5ee9-1c45-434a-aac4-ff9e6b4d2456",
   "metadata": {
    "language": "sql",
    "name": "see_scopes"
   },
   "outputs": [],
   "source": "SELECT SCOPE:name, COUNT(*) FROM SNOWFLAKE.LOCAL.AI_OBSERVABILITY_EVENTS \n-- WHERE\n-- ORDER BY TIMESTAMP DESC\nGROUP BY SCOPE\n-- limit 10;",
   "execution_count": null
  }
 ]
}